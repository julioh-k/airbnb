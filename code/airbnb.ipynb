{
 "cells": [
  {
   "cell_type": "markdown",
   "id": "7adc4c59-c436-42ef-b4bf-530b45768b78",
   "metadata": {},
   "source": [
    "# Project Airbnb (Step 1)\n",
    "---"
   ]
  },
  {
   "cell_type": "markdown",
   "id": "25c5bc6c-acb0-4b87-a8b7-e4017ef54545",
   "metadata": {},
   "source": [
    "## Problem statement"
   ]
  },
  {
   "cell_type": "markdown",
   "id": "fa62ca76-48c6-446b-ad10-618bdd44d5c1",
   "metadata": {},
   "source": [
    "My project aims to help people set the best possible price for their Airbnb listing. Using different types of regression models, the model can predict what the most standard price will be for a new listing based on various factors, such as location, rooms, number of accommodations, etc.\n",
    "\n",
    "Using natural language processing (NLP) analysis, I collected common verbs and text from a large sample of existing Airbnb listings in New York. This data is useful when predicting the price of listings.\n",
    "\n",
    "With the help of time series models like ARIMA and fbprophet, analyze if there are any kind of trends or seasons in relation to the price. At the same try to predict the average price over time."
   ]
  },
  {
   "cell_type": "markdown",
   "id": "cd1c1904-35dd-4b3a-a9ca-8c3c3a635978",
   "metadata": {},
   "source": [
    "## Airbnb"
   ]
  },
  {
   "cell_type": "markdown",
   "id": "f231f55b-5f3b-4058-a308-ac96852c2ce2",
   "metadata": {},
   "source": [
    "Airbnb is an online marketplace that connects people who want to rent out their homes with people who are looking for accommodations in specific locales."
   ]
  },
  {
   "cell_type": "markdown",
   "id": "2118e86b-cecf-4a90-ae36-51044313b2cf",
   "metadata": {},
   "source": [
    "## Data gathering "
   ]
  },
  {
   "cell_type": "markdown",
   "id": "357bb325-0876-4eea-b278-47ce7a994bc8",
   "metadata": {},
   "source": [
    "This data was taken from http://insideairbnb.com/get-the-data.html. The data behind the Inside Airbnb site is sourced from publicly available information from the Airbnb site. For the purpose of this project, we will use the data from New York City listings from February 6 and reservations from 2021 to 2022."
   ]
  },
  {
   "cell_type": "markdown",
   "id": "7280afaf-ba4c-4c74-817f-af559a94f6d8",
   "metadata": {},
   "source": [
    "## Process"
   ]
  },
  {
   "cell_type": "markdown",
   "id": "6c309ce8-800f-42a4-b6c1-70efad769022",
   "metadata": {},
   "source": [
    "This project will be divided into 3 parts: \n",
    " - Data cleaning \n",
    " - EDA analysis \n",
    " - Models and predictions."
   ]
  },
  {
   "cell_type": "markdown",
   "id": "cb0fac5b-5f31-4194-b989-0b97b4f45079",
   "metadata": {},
   "source": [
    "## Agenda"
   ]
  },
  {
   "cell_type": "markdown",
   "id": "4bc64d97-bcb1-4edc-bc56-854aad7649e5",
   "metadata": {},
   "source": [
    "1. Imports\n",
    "2. Data reading\n",
    "3. Null checking  \n",
    "4. Data preparation \n",
    "5. Conclusion "
   ]
  },
  {
   "cell_type": "markdown",
   "id": "376e6307-2351-468b-a01d-527fd52746ef",
   "metadata": {},
   "source": [
    "### 1. Imports:\n",
    "---"
   ]
  },
  {
   "cell_type": "code",
   "execution_count": 3,
   "id": "0fe6def6-743e-470d-83eb-d6ce1a47e215",
   "metadata": {},
   "outputs": [],
   "source": [
    "import pandas as pd\n",
    "import numpy as np\n",
    "import matplotlib.pyplot as plt\n",
    "import seaborn as sns"
   ]
  },
  {
   "cell_type": "code",
   "execution_count": 5,
   "id": "d82522a1-a8e5-433c-9ea4-4989d417ddda",
   "metadata": {},
   "outputs": [],
   "source": [
    "pd.set_option('display.max_columns', None) # to see all the columns on my dataframe\n",
    "listing= pd.read_csv('../data/raw_data/listing.csv',low_memory=False)\n",
    "review =pd.read_csv('../data/raw_data/reviews.csv')\n",
    "calendar2022 =pd.read_csv('../data/raw_data/calendar.csv')\n",
    "calendar2021 =pd.read_csv('../data/raw_data/calendar2021feb.csv')"
   ]
  },
  {
   "cell_type": "markdown",
   "id": "ac285f36-0665-49d5-acef-cd52fb152283",
   "metadata": {},
   "source": [
    "### 2. Data reading:\n",
    "---"
   ]
  },
  {
   "cell_type": "code",
   "execution_count": 6,
   "id": "70aa3eb9-ac5f-458a-8df1-dfef37b8038d",
   "metadata": {},
   "outputs": [
    {
     "data": {
      "text/html": [
       "<div>\n",
       "<style scoped>\n",
       "    .dataframe tbody tr th:only-of-type {\n",
       "        vertical-align: middle;\n",
       "    }\n",
       "\n",
       "    .dataframe tbody tr th {\n",
       "        vertical-align: top;\n",
       "    }\n",
       "\n",
       "    .dataframe thead th {\n",
       "        text-align: right;\n",
       "    }\n",
       "</style>\n",
       "<table border=\"1\" class=\"dataframe\">\n",
       "  <thead>\n",
       "    <tr style=\"text-align: right;\">\n",
       "      <th></th>\n",
       "      <th>id</th>\n",
       "      <th>listing_url</th>\n",
       "      <th>scrape_id</th>\n",
       "      <th>last_scraped</th>\n",
       "      <th>name</th>\n",
       "      <th>description</th>\n",
       "      <th>neighborhood_overview</th>\n",
       "      <th>picture_url</th>\n",
       "      <th>host_id</th>\n",
       "      <th>host_url</th>\n",
       "      <th>host_name</th>\n",
       "      <th>host_since</th>\n",
       "      <th>host_location</th>\n",
       "      <th>host_about</th>\n",
       "      <th>host_response_time</th>\n",
       "      <th>host_response_rate</th>\n",
       "      <th>host_acceptance_rate</th>\n",
       "      <th>host_is_superhost</th>\n",
       "      <th>host_thumbnail_url</th>\n",
       "      <th>host_picture_url</th>\n",
       "      <th>host_neighbourhood</th>\n",
       "      <th>host_listings_count</th>\n",
       "      <th>host_total_listings_count</th>\n",
       "      <th>host_verifications</th>\n",
       "      <th>host_has_profile_pic</th>\n",
       "      <th>host_identity_verified</th>\n",
       "      <th>neighbourhood</th>\n",
       "      <th>neighbourhood_cleansed</th>\n",
       "      <th>neighbourhood_group_cleansed</th>\n",
       "      <th>latitude</th>\n",
       "      <th>longitude</th>\n",
       "      <th>property_type</th>\n",
       "      <th>room_type</th>\n",
       "      <th>accommodates</th>\n",
       "      <th>bathrooms</th>\n",
       "      <th>bathrooms_text</th>\n",
       "      <th>bedrooms</th>\n",
       "      <th>beds</th>\n",
       "      <th>amenities</th>\n",
       "      <th>price</th>\n",
       "      <th>minimum_nights</th>\n",
       "      <th>maximum_nights</th>\n",
       "      <th>minimum_minimum_nights</th>\n",
       "      <th>maximum_minimum_nights</th>\n",
       "      <th>minimum_maximum_nights</th>\n",
       "      <th>maximum_maximum_nights</th>\n",
       "      <th>minimum_nights_avg_ntm</th>\n",
       "      <th>maximum_nights_avg_ntm</th>\n",
       "      <th>calendar_updated</th>\n",
       "      <th>has_availability</th>\n",
       "      <th>availability_30</th>\n",
       "      <th>availability_60</th>\n",
       "      <th>availability_90</th>\n",
       "      <th>availability_365</th>\n",
       "      <th>calendar_last_scraped</th>\n",
       "      <th>number_of_reviews</th>\n",
       "      <th>number_of_reviews_ltm</th>\n",
       "      <th>number_of_reviews_l30d</th>\n",
       "      <th>first_review</th>\n",
       "      <th>last_review</th>\n",
       "      <th>review_scores_rating</th>\n",
       "      <th>review_scores_accuracy</th>\n",
       "      <th>review_scores_cleanliness</th>\n",
       "      <th>review_scores_checkin</th>\n",
       "      <th>review_scores_communication</th>\n",
       "      <th>review_scores_location</th>\n",
       "      <th>review_scores_value</th>\n",
       "      <th>license</th>\n",
       "      <th>instant_bookable</th>\n",
       "      <th>calculated_host_listings_count</th>\n",
       "      <th>calculated_host_listings_count_entire_homes</th>\n",
       "      <th>calculated_host_listings_count_private_rooms</th>\n",
       "      <th>calculated_host_listings_count_shared_rooms</th>\n",
       "      <th>reviews_per_month</th>\n",
       "    </tr>\n",
       "  </thead>\n",
       "  <tbody>\n",
       "    <tr>\n",
       "      <th>0</th>\n",
       "      <td>2595</td>\n",
       "      <td>https://www.airbnb.com/rooms/2595</td>\n",
       "      <td>20220106025017</td>\n",
       "      <td>2022-01-06</td>\n",
       "      <td>Skylit Midtown Castle</td>\n",
       "      <td>Beautiful, spacious skylit studio in the heart...</td>\n",
       "      <td>Centrally located in the heart of Manhattan ju...</td>\n",
       "      <td>https://a0.muscache.com/pictures/f0813a11-40b2...</td>\n",
       "      <td>2845</td>\n",
       "      <td>https://www.airbnb.com/users/show/2845</td>\n",
       "      <td>Jennifer</td>\n",
       "      <td>2008-09-09</td>\n",
       "      <td>New York, New York, United States</td>\n",
       "      <td>A New Yorker since 2000! My passion is creatin...</td>\n",
       "      <td>within a day</td>\n",
       "      <td>51%</td>\n",
       "      <td>17%</td>\n",
       "      <td>f</td>\n",
       "      <td>https://a0.muscache.com/im/pictures/user/50fc5...</td>\n",
       "      <td>https://a0.muscache.com/im/pictures/user/50fc5...</td>\n",
       "      <td>Midtown</td>\n",
       "      <td>8.0</td>\n",
       "      <td>8.0</td>\n",
       "      <td>['email', 'phone', 'reviews', 'offline_governm...</td>\n",
       "      <td>t</td>\n",
       "      <td>t</td>\n",
       "      <td>New York, United States</td>\n",
       "      <td>Midtown</td>\n",
       "      <td>Manhattan</td>\n",
       "      <td>40.75356</td>\n",
       "      <td>-73.98559</td>\n",
       "      <td>Entire rental unit</td>\n",
       "      <td>Entire home/apt</td>\n",
       "      <td>1</td>\n",
       "      <td>NaN</td>\n",
       "      <td>1 bath</td>\n",
       "      <td>NaN</td>\n",
       "      <td>1.0</td>\n",
       "      <td>[\"Hot water\", \"Iron\", \"Keypad\", \"Refrigerator\"...</td>\n",
       "      <td>$150.00</td>\n",
       "      <td>30</td>\n",
       "      <td>1125</td>\n",
       "      <td>30.0</td>\n",
       "      <td>30.0</td>\n",
       "      <td>1125.0</td>\n",
       "      <td>1125.0</td>\n",
       "      <td>30.0</td>\n",
       "      <td>1125.0</td>\n",
       "      <td>NaN</td>\n",
       "      <td>t</td>\n",
       "      <td>30</td>\n",
       "      <td>60</td>\n",
       "      <td>90</td>\n",
       "      <td>334</td>\n",
       "      <td>2022-01-06</td>\n",
       "      <td>48</td>\n",
       "      <td>0</td>\n",
       "      <td>0</td>\n",
       "      <td>2009-11-21</td>\n",
       "      <td>2019-11-04</td>\n",
       "      <td>4.70</td>\n",
       "      <td>4.72</td>\n",
       "      <td>4.62</td>\n",
       "      <td>4.76</td>\n",
       "      <td>4.79</td>\n",
       "      <td>4.86</td>\n",
       "      <td>4.41</td>\n",
       "      <td>NaN</td>\n",
       "      <td>f</td>\n",
       "      <td>3</td>\n",
       "      <td>3</td>\n",
       "      <td>0</td>\n",
       "      <td>0</td>\n",
       "      <td>0.33</td>\n",
       "    </tr>\n",
       "    <tr>\n",
       "      <th>1</th>\n",
       "      <td>3831</td>\n",
       "      <td>https://www.airbnb.com/rooms/3831</td>\n",
       "      <td>20220106025017</td>\n",
       "      <td>2022-01-06</td>\n",
       "      <td>Whole flr w/private bdrm, bath &amp; kitchen(pls r...</td>\n",
       "      <td>Enjoy 500 s.f. top floor in 1899 brownstone, w...</td>\n",
       "      <td>Just the right mix of urban center and local n...</td>\n",
       "      <td>https://a0.muscache.com/pictures/e49999c2-9fd5...</td>\n",
       "      <td>4869</td>\n",
       "      <td>https://www.airbnb.com/users/show/4869</td>\n",
       "      <td>LisaRoxanne</td>\n",
       "      <td>2008-12-07</td>\n",
       "      <td>New York, New York, United States</td>\n",
       "      <td>Laid-back Native New Yorker (formerly bi-coast...</td>\n",
       "      <td>a few days or more</td>\n",
       "      <td>0%</td>\n",
       "      <td>64%</td>\n",
       "      <td>f</td>\n",
       "      <td>https://a0.muscache.com/im/users/4869/profile_...</td>\n",
       "      <td>https://a0.muscache.com/im/users/4869/profile_...</td>\n",
       "      <td>Clinton Hill</td>\n",
       "      <td>1.0</td>\n",
       "      <td>1.0</td>\n",
       "      <td>['email', 'phone', 'reviews', 'offline_governm...</td>\n",
       "      <td>t</td>\n",
       "      <td>t</td>\n",
       "      <td>Brooklyn, New York, United States</td>\n",
       "      <td>Bedford-Stuyvesant</td>\n",
       "      <td>Brooklyn</td>\n",
       "      <td>40.68494</td>\n",
       "      <td>-73.95765</td>\n",
       "      <td>Entire guest suite</td>\n",
       "      <td>Entire home/apt</td>\n",
       "      <td>3</td>\n",
       "      <td>NaN</td>\n",
       "      <td>1 bath</td>\n",
       "      <td>1.0</td>\n",
       "      <td>3.0</td>\n",
       "      <td>[\"Hot water\", \"Iron\", \"Children\\u2019s books a...</td>\n",
       "      <td>$73.00</td>\n",
       "      <td>1</td>\n",
       "      <td>730</td>\n",
       "      <td>1.0</td>\n",
       "      <td>1.0</td>\n",
       "      <td>730.0</td>\n",
       "      <td>730.0</td>\n",
       "      <td>1.0</td>\n",
       "      <td>730.0</td>\n",
       "      <td>NaN</td>\n",
       "      <td>t</td>\n",
       "      <td>3</td>\n",
       "      <td>15</td>\n",
       "      <td>26</td>\n",
       "      <td>214</td>\n",
       "      <td>2022-01-06</td>\n",
       "      <td>409</td>\n",
       "      <td>26</td>\n",
       "      <td>0</td>\n",
       "      <td>2014-09-30</td>\n",
       "      <td>2021-10-22</td>\n",
       "      <td>4.45</td>\n",
       "      <td>4.58</td>\n",
       "      <td>4.49</td>\n",
       "      <td>4.78</td>\n",
       "      <td>4.80</td>\n",
       "      <td>4.71</td>\n",
       "      <td>4.64</td>\n",
       "      <td>NaN</td>\n",
       "      <td>f</td>\n",
       "      <td>1</td>\n",
       "      <td>1</td>\n",
       "      <td>0</td>\n",
       "      <td>0</td>\n",
       "      <td>4.62</td>\n",
       "    </tr>\n",
       "    <tr>\n",
       "      <th>2</th>\n",
       "      <td>5121</td>\n",
       "      <td>https://www.airbnb.com/rooms/5121</td>\n",
       "      <td>20220106025017</td>\n",
       "      <td>2022-01-06</td>\n",
       "      <td>BlissArtsSpace!</td>\n",
       "      <td>&lt;b&gt;The space&lt;/b&gt;&lt;br /&gt;HELLO EVERYONE AND THANK...</td>\n",
       "      <td>NaN</td>\n",
       "      <td>https://a0.muscache.com/pictures/2090980c-b68e...</td>\n",
       "      <td>7356</td>\n",
       "      <td>https://www.airbnb.com/users/show/7356</td>\n",
       "      <td>Garon</td>\n",
       "      <td>2009-02-03</td>\n",
       "      <td>New York, New York, United States</td>\n",
       "      <td>I am an artist(painter, filmmaker) and curato...</td>\n",
       "      <td>within an hour</td>\n",
       "      <td>100%</td>\n",
       "      <td>100%</td>\n",
       "      <td>f</td>\n",
       "      <td>https://a0.muscache.com/im/pictures/user/72a61...</td>\n",
       "      <td>https://a0.muscache.com/im/pictures/user/72a61...</td>\n",
       "      <td>Bedford-Stuyvesant</td>\n",
       "      <td>1.0</td>\n",
       "      <td>1.0</td>\n",
       "      <td>['email', 'phone', 'facebook', 'reviews', 'off...</td>\n",
       "      <td>t</td>\n",
       "      <td>t</td>\n",
       "      <td>NaN</td>\n",
       "      <td>Bedford-Stuyvesant</td>\n",
       "      <td>Brooklyn</td>\n",
       "      <td>40.68535</td>\n",
       "      <td>-73.95512</td>\n",
       "      <td>Private room in rental unit</td>\n",
       "      <td>Private room</td>\n",
       "      <td>2</td>\n",
       "      <td>NaN</td>\n",
       "      <td>NaN</td>\n",
       "      <td>1.0</td>\n",
       "      <td>1.0</td>\n",
       "      <td>[\"Heating\", \"Air conditioning\", \"Long term sta...</td>\n",
       "      <td>$60.00</td>\n",
       "      <td>30</td>\n",
       "      <td>730</td>\n",
       "      <td>30.0</td>\n",
       "      <td>30.0</td>\n",
       "      <td>730.0</td>\n",
       "      <td>730.0</td>\n",
       "      <td>30.0</td>\n",
       "      <td>730.0</td>\n",
       "      <td>NaN</td>\n",
       "      <td>t</td>\n",
       "      <td>30</td>\n",
       "      <td>60</td>\n",
       "      <td>90</td>\n",
       "      <td>365</td>\n",
       "      <td>2022-01-06</td>\n",
       "      <td>50</td>\n",
       "      <td>0</td>\n",
       "      <td>0</td>\n",
       "      <td>2009-05-28</td>\n",
       "      <td>2019-12-02</td>\n",
       "      <td>4.52</td>\n",
       "      <td>4.22</td>\n",
       "      <td>4.09</td>\n",
       "      <td>4.91</td>\n",
       "      <td>4.91</td>\n",
       "      <td>4.47</td>\n",
       "      <td>4.52</td>\n",
       "      <td>NaN</td>\n",
       "      <td>f</td>\n",
       "      <td>2</td>\n",
       "      <td>0</td>\n",
       "      <td>2</td>\n",
       "      <td>0</td>\n",
       "      <td>0.33</td>\n",
       "    </tr>\n",
       "  </tbody>\n",
       "</table>\n",
       "</div>"
      ],
      "text/plain": [
       "     id                        listing_url       scrape_id last_scraped  \\\n",
       "0  2595  https://www.airbnb.com/rooms/2595  20220106025017   2022-01-06   \n",
       "1  3831  https://www.airbnb.com/rooms/3831  20220106025017   2022-01-06   \n",
       "2  5121  https://www.airbnb.com/rooms/5121  20220106025017   2022-01-06   \n",
       "\n",
       "                                                name  \\\n",
       "0                              Skylit Midtown Castle   \n",
       "1  Whole flr w/private bdrm, bath & kitchen(pls r...   \n",
       "2                                    BlissArtsSpace!   \n",
       "\n",
       "                                         description  \\\n",
       "0  Beautiful, spacious skylit studio in the heart...   \n",
       "1  Enjoy 500 s.f. top floor in 1899 brownstone, w...   \n",
       "2  <b>The space</b><br />HELLO EVERYONE AND THANK...   \n",
       "\n",
       "                               neighborhood_overview  \\\n",
       "0  Centrally located in the heart of Manhattan ju...   \n",
       "1  Just the right mix of urban center and local n...   \n",
       "2                                                NaN   \n",
       "\n",
       "                                         picture_url  host_id  \\\n",
       "0  https://a0.muscache.com/pictures/f0813a11-40b2...     2845   \n",
       "1  https://a0.muscache.com/pictures/e49999c2-9fd5...     4869   \n",
       "2  https://a0.muscache.com/pictures/2090980c-b68e...     7356   \n",
       "\n",
       "                                 host_url    host_name  host_since  \\\n",
       "0  https://www.airbnb.com/users/show/2845     Jennifer  2008-09-09   \n",
       "1  https://www.airbnb.com/users/show/4869  LisaRoxanne  2008-12-07   \n",
       "2  https://www.airbnb.com/users/show/7356        Garon  2009-02-03   \n",
       "\n",
       "                       host_location  \\\n",
       "0  New York, New York, United States   \n",
       "1  New York, New York, United States   \n",
       "2  New York, New York, United States   \n",
       "\n",
       "                                          host_about  host_response_time  \\\n",
       "0  A New Yorker since 2000! My passion is creatin...        within a day   \n",
       "1  Laid-back Native New Yorker (formerly bi-coast...  a few days or more   \n",
       "2   I am an artist(painter, filmmaker) and curato...      within an hour   \n",
       "\n",
       "  host_response_rate host_acceptance_rate host_is_superhost  \\\n",
       "0                51%                  17%                 f   \n",
       "1                 0%                  64%                 f   \n",
       "2               100%                 100%                 f   \n",
       "\n",
       "                                  host_thumbnail_url  \\\n",
       "0  https://a0.muscache.com/im/pictures/user/50fc5...   \n",
       "1  https://a0.muscache.com/im/users/4869/profile_...   \n",
       "2  https://a0.muscache.com/im/pictures/user/72a61...   \n",
       "\n",
       "                                    host_picture_url  host_neighbourhood  \\\n",
       "0  https://a0.muscache.com/im/pictures/user/50fc5...             Midtown   \n",
       "1  https://a0.muscache.com/im/users/4869/profile_...        Clinton Hill   \n",
       "2  https://a0.muscache.com/im/pictures/user/72a61...  Bedford-Stuyvesant   \n",
       "\n",
       "   host_listings_count  host_total_listings_count  \\\n",
       "0                  8.0                        8.0   \n",
       "1                  1.0                        1.0   \n",
       "2                  1.0                        1.0   \n",
       "\n",
       "                                  host_verifications host_has_profile_pic  \\\n",
       "0  ['email', 'phone', 'reviews', 'offline_governm...                    t   \n",
       "1  ['email', 'phone', 'reviews', 'offline_governm...                    t   \n",
       "2  ['email', 'phone', 'facebook', 'reviews', 'off...                    t   \n",
       "\n",
       "  host_identity_verified                      neighbourhood  \\\n",
       "0                      t            New York, United States   \n",
       "1                      t  Brooklyn, New York, United States   \n",
       "2                      t                                NaN   \n",
       "\n",
       "  neighbourhood_cleansed neighbourhood_group_cleansed  latitude  longitude  \\\n",
       "0                Midtown                    Manhattan  40.75356  -73.98559   \n",
       "1     Bedford-Stuyvesant                     Brooklyn  40.68494  -73.95765   \n",
       "2     Bedford-Stuyvesant                     Brooklyn  40.68535  -73.95512   \n",
       "\n",
       "                 property_type        room_type  accommodates  bathrooms  \\\n",
       "0           Entire rental unit  Entire home/apt             1        NaN   \n",
       "1           Entire guest suite  Entire home/apt             3        NaN   \n",
       "2  Private room in rental unit     Private room             2        NaN   \n",
       "\n",
       "  bathrooms_text  bedrooms  beds  \\\n",
       "0         1 bath       NaN   1.0   \n",
       "1         1 bath       1.0   3.0   \n",
       "2            NaN       1.0   1.0   \n",
       "\n",
       "                                           amenities    price  minimum_nights  \\\n",
       "0  [\"Hot water\", \"Iron\", \"Keypad\", \"Refrigerator\"...  $150.00              30   \n",
       "1  [\"Hot water\", \"Iron\", \"Children\\u2019s books a...   $73.00               1   \n",
       "2  [\"Heating\", \"Air conditioning\", \"Long term sta...   $60.00              30   \n",
       "\n",
       "   maximum_nights  minimum_minimum_nights  maximum_minimum_nights  \\\n",
       "0            1125                    30.0                    30.0   \n",
       "1             730                     1.0                     1.0   \n",
       "2             730                    30.0                    30.0   \n",
       "\n",
       "   minimum_maximum_nights  maximum_maximum_nights  minimum_nights_avg_ntm  \\\n",
       "0                  1125.0                  1125.0                    30.0   \n",
       "1                   730.0                   730.0                     1.0   \n",
       "2                   730.0                   730.0                    30.0   \n",
       "\n",
       "   maximum_nights_avg_ntm  calendar_updated has_availability  availability_30  \\\n",
       "0                  1125.0               NaN                t               30   \n",
       "1                   730.0               NaN                t                3   \n",
       "2                   730.0               NaN                t               30   \n",
       "\n",
       "   availability_60  availability_90  availability_365 calendar_last_scraped  \\\n",
       "0               60               90               334            2022-01-06   \n",
       "1               15               26               214            2022-01-06   \n",
       "2               60               90               365            2022-01-06   \n",
       "\n",
       "   number_of_reviews  number_of_reviews_ltm  number_of_reviews_l30d  \\\n",
       "0                 48                      0                       0   \n",
       "1                409                     26                       0   \n",
       "2                 50                      0                       0   \n",
       "\n",
       "  first_review last_review  review_scores_rating  review_scores_accuracy  \\\n",
       "0   2009-11-21  2019-11-04                  4.70                    4.72   \n",
       "1   2014-09-30  2021-10-22                  4.45                    4.58   \n",
       "2   2009-05-28  2019-12-02                  4.52                    4.22   \n",
       "\n",
       "   review_scores_cleanliness  review_scores_checkin  \\\n",
       "0                       4.62                   4.76   \n",
       "1                       4.49                   4.78   \n",
       "2                       4.09                   4.91   \n",
       "\n",
       "   review_scores_communication  review_scores_location  review_scores_value  \\\n",
       "0                         4.79                    4.86                 4.41   \n",
       "1                         4.80                    4.71                 4.64   \n",
       "2                         4.91                    4.47                 4.52   \n",
       "\n",
       "  license instant_bookable  calculated_host_listings_count  \\\n",
       "0     NaN                f                               3   \n",
       "1     NaN                f                               1   \n",
       "2     NaN                f                               2   \n",
       "\n",
       "   calculated_host_listings_count_entire_homes  \\\n",
       "0                                            3   \n",
       "1                                            1   \n",
       "2                                            0   \n",
       "\n",
       "   calculated_host_listings_count_private_rooms  \\\n",
       "0                                             0   \n",
       "1                                             0   \n",
       "2                                             2   \n",
       "\n",
       "   calculated_host_listings_count_shared_rooms  reviews_per_month  \n",
       "0                                            0               0.33  \n",
       "1                                            0               4.62  \n",
       "2                                            0               0.33  "
      ]
     },
     "execution_count": 6,
     "metadata": {},
     "output_type": "execute_result"
    }
   ],
   "source": [
    "listing.head(3)"
   ]
  },
  {
   "cell_type": "code",
   "execution_count": 7,
   "id": "f2eb5235-5d38-4a2e-ad4e-7979601e5607",
   "metadata": {},
   "outputs": [
    {
     "data": {
      "text/html": [
       "<div>\n",
       "<style scoped>\n",
       "    .dataframe tbody tr th:only-of-type {\n",
       "        vertical-align: middle;\n",
       "    }\n",
       "\n",
       "    .dataframe tbody tr th {\n",
       "        vertical-align: top;\n",
       "    }\n",
       "\n",
       "    .dataframe thead th {\n",
       "        text-align: right;\n",
       "    }\n",
       "</style>\n",
       "<table border=\"1\" class=\"dataframe\">\n",
       "  <thead>\n",
       "    <tr style=\"text-align: right;\">\n",
       "      <th></th>\n",
       "      <th>listing_id</th>\n",
       "      <th>id</th>\n",
       "      <th>date</th>\n",
       "      <th>reviewer_id</th>\n",
       "      <th>reviewer_name</th>\n",
       "      <th>comments</th>\n",
       "    </tr>\n",
       "  </thead>\n",
       "  <tbody>\n",
       "    <tr>\n",
       "      <th>0</th>\n",
       "      <td>2595</td>\n",
       "      <td>17857</td>\n",
       "      <td>2009-11-21</td>\n",
       "      <td>50679</td>\n",
       "      <td>Jean</td>\n",
       "      <td>Notre séjour de trois nuits.\\r&lt;br/&gt;Nous avons ...</td>\n",
       "    </tr>\n",
       "  </tbody>\n",
       "</table>\n",
       "</div>"
      ],
      "text/plain": [
       "   listing_id     id        date  reviewer_id reviewer_name  \\\n",
       "0        2595  17857  2009-11-21        50679          Jean   \n",
       "\n",
       "                                            comments  \n",
       "0  Notre séjour de trois nuits.\\r<br/>Nous avons ...  "
      ]
     },
     "execution_count": 7,
     "metadata": {},
     "output_type": "execute_result"
    }
   ],
   "source": [
    "review.head(1)"
   ]
  },
  {
   "cell_type": "code",
   "execution_count": 8,
   "id": "24b59fe9-39c1-474a-8010-669111db1d4e",
   "metadata": {},
   "outputs": [
    {
     "data": {
      "text/html": [
       "<div>\n",
       "<style scoped>\n",
       "    .dataframe tbody tr th:only-of-type {\n",
       "        vertical-align: middle;\n",
       "    }\n",
       "\n",
       "    .dataframe tbody tr th {\n",
       "        vertical-align: top;\n",
       "    }\n",
       "\n",
       "    .dataframe thead th {\n",
       "        text-align: right;\n",
       "    }\n",
       "</style>\n",
       "<table border=\"1\" class=\"dataframe\">\n",
       "  <thead>\n",
       "    <tr style=\"text-align: right;\">\n",
       "      <th></th>\n",
       "      <th>listing_id</th>\n",
       "      <th>date</th>\n",
       "      <th>available</th>\n",
       "      <th>price</th>\n",
       "      <th>adjusted_price</th>\n",
       "      <th>minimum_nights</th>\n",
       "      <th>maximum_nights</th>\n",
       "    </tr>\n",
       "  </thead>\n",
       "  <tbody>\n",
       "    <tr>\n",
       "      <th>0</th>\n",
       "      <td>21456</td>\n",
       "      <td>2021-02-05</td>\n",
       "      <td>t</td>\n",
       "      <td>$85.00</td>\n",
       "      <td>$85.00</td>\n",
       "      <td>30.0</td>\n",
       "      <td>365.0</td>\n",
       "    </tr>\n",
       "    <tr>\n",
       "      <th>1</th>\n",
       "      <td>59709</td>\n",
       "      <td>2021-02-05</td>\n",
       "      <td>f</td>\n",
       "      <td>$160.00</td>\n",
       "      <td>$160.00</td>\n",
       "      <td>7.0</td>\n",
       "      <td>31.0</td>\n",
       "    </tr>\n",
       "    <tr>\n",
       "      <th>2</th>\n",
       "      <td>59709</td>\n",
       "      <td>2021-02-06</td>\n",
       "      <td>f</td>\n",
       "      <td>$160.00</td>\n",
       "      <td>$160.00</td>\n",
       "      <td>7.0</td>\n",
       "      <td>31.0</td>\n",
       "    </tr>\n",
       "    <tr>\n",
       "      <th>3</th>\n",
       "      <td>59709</td>\n",
       "      <td>2021-02-07</td>\n",
       "      <td>f</td>\n",
       "      <td>$160.00</td>\n",
       "      <td>$160.00</td>\n",
       "      <td>7.0</td>\n",
       "      <td>31.0</td>\n",
       "    </tr>\n",
       "    <tr>\n",
       "      <th>4</th>\n",
       "      <td>59709</td>\n",
       "      <td>2021-02-08</td>\n",
       "      <td>f</td>\n",
       "      <td>$160.00</td>\n",
       "      <td>$160.00</td>\n",
       "      <td>7.0</td>\n",
       "      <td>31.0</td>\n",
       "    </tr>\n",
       "  </tbody>\n",
       "</table>\n",
       "</div>"
      ],
      "text/plain": [
       "   listing_id        date available    price adjusted_price  minimum_nights  \\\n",
       "0       21456  2021-02-05         t   $85.00         $85.00            30.0   \n",
       "1       59709  2021-02-05         f  $160.00        $160.00             7.0   \n",
       "2       59709  2021-02-06         f  $160.00        $160.00             7.0   \n",
       "3       59709  2021-02-07         f  $160.00        $160.00             7.0   \n",
       "4       59709  2021-02-08         f  $160.00        $160.00             7.0   \n",
       "\n",
       "   maximum_nights  \n",
       "0           365.0  \n",
       "1            31.0  \n",
       "2            31.0  \n",
       "3            31.0  \n",
       "4            31.0  "
      ]
     },
     "execution_count": 8,
     "metadata": {},
     "output_type": "execute_result"
    }
   ],
   "source": [
    "calendar2021.head(5)"
   ]
  },
  {
   "cell_type": "code",
   "execution_count": 7,
   "id": "cc4f326a-3526-4bba-b1d1-3ccdc84efe3f",
   "metadata": {},
   "outputs": [
    {
     "data": {
      "text/html": [
       "<div>\n",
       "<style scoped>\n",
       "    .dataframe tbody tr th:only-of-type {\n",
       "        vertical-align: middle;\n",
       "    }\n",
       "\n",
       "    .dataframe tbody tr th {\n",
       "        vertical-align: top;\n",
       "    }\n",
       "\n",
       "    .dataframe thead th {\n",
       "        text-align: right;\n",
       "    }\n",
       "</style>\n",
       "<table border=\"1\" class=\"dataframe\">\n",
       "  <thead>\n",
       "    <tr style=\"text-align: right;\">\n",
       "      <th></th>\n",
       "      <th>listing_id</th>\n",
       "      <th>date</th>\n",
       "      <th>available</th>\n",
       "      <th>price</th>\n",
       "      <th>adjusted_price</th>\n",
       "      <th>minimum_nights</th>\n",
       "      <th>maximum_nights</th>\n",
       "    </tr>\n",
       "  </thead>\n",
       "  <tbody>\n",
       "    <tr>\n",
       "      <th>0</th>\n",
       "      <td>2595</td>\n",
       "      <td>2022-01-06</td>\n",
       "      <td>t</td>\n",
       "      <td>$150.00</td>\n",
       "      <td>$150.00</td>\n",
       "      <td>30.0</td>\n",
       "      <td>1125.0</td>\n",
       "    </tr>\n",
       "  </tbody>\n",
       "</table>\n",
       "</div>"
      ],
      "text/plain": [
       "   listing_id        date available    price adjusted_price  minimum_nights  \\\n",
       "0        2595  2022-01-06         t  $150.00        $150.00            30.0   \n",
       "\n",
       "   maximum_nights  \n",
       "0          1125.0  "
      ]
     },
     "execution_count": 7,
     "metadata": {},
     "output_type": "execute_result"
    }
   ],
   "source": [
    "calendar2022.head(1)"
   ]
  },
  {
   "cell_type": "code",
   "execution_count": 8,
   "id": "5a4f4c98-a897-460d-99c3-6065edb01a2c",
   "metadata": {},
   "outputs": [
    {
     "name": "stdout",
     "output_type": "stream",
     "text": [
      "listings shape:  (38185, 74)\n",
      "review shape:  (908803, 6)\n",
      "calendar 2021 shape:  (13464021, 7)\n",
      "calendar 2022 shape:  (13930969, 7)\n"
     ]
    }
   ],
   "source": [
    "print('listings shape: ',listing.shape)\n",
    "print('review shape: ', review.shape)\n",
    "print('calendar 2021 shape: ', calendar2021.shape)\n",
    "print('calendar 2022 shape: ', calendar2022.shape)"
   ]
  },
  {
   "cell_type": "code",
   "execution_count": 9,
   "id": "ff5809c3-ed93-4a51-86e3-38cdf16832e4",
   "metadata": {
    "tags": []
   },
   "outputs": [
    {
     "name": "stdout",
     "output_type": "stream",
     "text": [
      "<class 'pandas.core.frame.DataFrame'>\n",
      "RangeIndex: 38185 entries, 0 to 38184\n",
      "Data columns (total 74 columns):\n",
      " #   Column                                        Non-Null Count  Dtype  \n",
      "---  ------                                        --------------  -----  \n",
      " 0   id                                            38185 non-null  int64  \n",
      " 1   listing_url                                   38185 non-null  object \n",
      " 2   scrape_id                                     38185 non-null  int64  \n",
      " 3   last_scraped                                  38185 non-null  object \n",
      " 4   name                                          38171 non-null  object \n",
      " 5   description                                   37077 non-null  object \n",
      " 6   neighborhood_overview                         22560 non-null  object \n",
      " 7   picture_url                                   38185 non-null  object \n",
      " 8   host_id                                       38185 non-null  int64  \n",
      " 9   host_url                                      38185 non-null  object \n",
      " 10  host_name                                     38138 non-null  object \n",
      " 11  host_since                                    38138 non-null  object \n",
      " 12  host_location                                 38036 non-null  object \n",
      " 13  host_about                                    21872 non-null  object \n",
      " 14  host_response_time                            23895 non-null  object \n",
      " 15  host_response_rate                            23895 non-null  object \n",
      " 16  host_acceptance_rate                          24875 non-null  object \n",
      " 17  host_is_superhost                             38138 non-null  object \n",
      " 18  host_thumbnail_url                            38138 non-null  object \n",
      " 19  host_picture_url                              38138 non-null  object \n",
      " 20  host_neighbourhood                            30761 non-null  object \n",
      " 21  host_listings_count                           38138 non-null  float64\n",
      " 22  host_total_listings_count                     38138 non-null  float64\n",
      " 23  host_verifications                            38185 non-null  object \n",
      " 24  host_has_profile_pic                          38138 non-null  object \n",
      " 25  host_identity_verified                        38138 non-null  object \n",
      " 26  neighbourhood                                 22561 non-null  object \n",
      " 27  neighbourhood_cleansed                        38185 non-null  object \n",
      " 28  neighbourhood_group_cleansed                  38185 non-null  object \n",
      " 29  latitude                                      38185 non-null  float64\n",
      " 30  longitude                                     38185 non-null  float64\n",
      " 31  property_type                                 38185 non-null  object \n",
      " 32  room_type                                     38185 non-null  object \n",
      " 33  accommodates                                  38185 non-null  int64  \n",
      " 34  bathrooms                                     0 non-null      float64\n",
      " 35  bathrooms_text                                38082 non-null  object \n",
      " 36  bedrooms                                      34296 non-null  float64\n",
      " 37  beds                                          36898 non-null  float64\n",
      " 38  amenities                                     38185 non-null  object \n",
      " 39  price                                         38185 non-null  object \n",
      " 40  minimum_nights                                38185 non-null  int64  \n",
      " 41  maximum_nights                                38185 non-null  int64  \n",
      " 42  minimum_minimum_nights                        38167 non-null  float64\n",
      " 43  maximum_minimum_nights                        38167 non-null  float64\n",
      " 44  minimum_maximum_nights                        38167 non-null  float64\n",
      " 45  maximum_maximum_nights                        38167 non-null  float64\n",
      " 46  minimum_nights_avg_ntm                        38167 non-null  float64\n",
      " 47  maximum_nights_avg_ntm                        38167 non-null  float64\n",
      " 48  calendar_updated                              0 non-null      float64\n",
      " 49  has_availability                              38185 non-null  object \n",
      " 50  availability_30                               38185 non-null  int64  \n",
      " 51  availability_60                               38185 non-null  int64  \n",
      " 52  availability_90                               38185 non-null  int64  \n",
      " 53  availability_365                              38185 non-null  int64  \n",
      " 54  calendar_last_scraped                         38185 non-null  object \n",
      " 55  number_of_reviews                             38185 non-null  int64  \n",
      " 56  number_of_reviews_ltm                         38185 non-null  int64  \n",
      " 57  number_of_reviews_l30d                        38185 non-null  int64  \n",
      " 58  first_review                                  29009 non-null  object \n",
      " 59  last_review                                   29009 non-null  object \n",
      " 60  review_scores_rating                          29009 non-null  float64\n",
      " 61  review_scores_accuracy                        28426 non-null  float64\n",
      " 62  review_scores_cleanliness                     28437 non-null  float64\n",
      " 63  review_scores_checkin                         28420 non-null  float64\n",
      " 64  review_scores_communication                   28430 non-null  float64\n",
      " 65  review_scores_location                        28417 non-null  float64\n",
      " 66  review_scores_value                           28416 non-null  float64\n",
      " 67  license                                       1 non-null      object \n",
      " 68  instant_bookable                              38185 non-null  object \n",
      " 69  calculated_host_listings_count                38185 non-null  int64  \n",
      " 70  calculated_host_listings_count_entire_homes   38185 non-null  int64  \n",
      " 71  calculated_host_listings_count_private_rooms  38185 non-null  int64  \n",
      " 72  calculated_host_listings_count_shared_rooms   38185 non-null  int64  \n",
      " 73  reviews_per_month                             29009 non-null  float64\n",
      "dtypes: float64(22), int64(17), object(35)\n",
      "memory usage: 21.6+ MB\n"
     ]
    }
   ],
   "source": [
    "listing.info()"
   ]
  },
  {
   "cell_type": "code",
   "execution_count": 10,
   "id": "f2b68318-5797-472d-9765-855b14171058",
   "metadata": {},
   "outputs": [
    {
     "name": "stdout",
     "output_type": "stream",
     "text": [
      "<class 'pandas.core.frame.DataFrame'>\n",
      "RangeIndex: 908803 entries, 0 to 908802\n",
      "Data columns (total 6 columns):\n",
      " #   Column         Non-Null Count   Dtype \n",
      "---  ------         --------------   ----- \n",
      " 0   listing_id     908803 non-null  int64 \n",
      " 1   id             908803 non-null  int64 \n",
      " 2   date           908803 non-null  object\n",
      " 3   reviewer_id    908803 non-null  int64 \n",
      " 4   reviewer_name  908797 non-null  object\n",
      " 5   comments       908638 non-null  object\n",
      "dtypes: int64(3), object(3)\n",
      "memory usage: 41.6+ MB\n"
     ]
    }
   ],
   "source": [
    "review.info()"
   ]
  },
  {
   "cell_type": "code",
   "execution_count": 11,
   "id": "b2f565e9-fee1-4acc-8e44-e846c77c4a6b",
   "metadata": {},
   "outputs": [
    {
     "name": "stdout",
     "output_type": "stream",
     "text": [
      "<class 'pandas.core.frame.DataFrame'>\n",
      "RangeIndex: 13464021 entries, 0 to 13464020\n",
      "Data columns (total 7 columns):\n",
      " #   Column          Dtype  \n",
      "---  ------          -----  \n",
      " 0   listing_id      int64  \n",
      " 1   date            object \n",
      " 2   available       object \n",
      " 3   price           object \n",
      " 4   adjusted_price  object \n",
      " 5   minimum_nights  float64\n",
      " 6   maximum_nights  float64\n",
      "dtypes: float64(2), int64(1), object(4)\n",
      "memory usage: 719.1+ MB\n"
     ]
    }
   ],
   "source": [
    "calendar2021.info()"
   ]
  },
  {
   "cell_type": "code",
   "execution_count": 12,
   "id": "5d2de1c2-1ab6-4a58-941e-33dcca44a065",
   "metadata": {},
   "outputs": [
    {
     "name": "stdout",
     "output_type": "stream",
     "text": [
      "<class 'pandas.core.frame.DataFrame'>\n",
      "RangeIndex: 13930969 entries, 0 to 13930968\n",
      "Data columns (total 7 columns):\n",
      " #   Column          Dtype  \n",
      "---  ------          -----  \n",
      " 0   listing_id      int64  \n",
      " 1   date            object \n",
      " 2   available       object \n",
      " 3   price           object \n",
      " 4   adjusted_price  object \n",
      " 5   minimum_nights  float64\n",
      " 6   maximum_nights  float64\n",
      "dtypes: float64(2), int64(1), object(4)\n",
      "memory usage: 744.0+ MB\n"
     ]
    }
   ],
   "source": [
    "calendar2022.info()"
   ]
  },
  {
   "cell_type": "markdown",
   "id": "c1219650-98cb-4ff0-8991-751f1d5ab932",
   "metadata": {},
   "source": [
    "### 3. Null checking\n",
    "---"
   ]
  },
  {
   "cell_type": "code",
   "execution_count": 13,
   "id": "4d8d4601-7304-40a0-8ef1-d1c417449af3",
   "metadata": {},
   "outputs": [
    {
     "data": {
      "text/plain": [
       "name                              14\n",
       "description                     1108\n",
       "neighborhood_overview          15625\n",
       "host_name                         47\n",
       "host_since                        47\n",
       "host_location                    149\n",
       "host_about                     16313\n",
       "host_response_time             14290\n",
       "host_response_rate             14290\n",
       "host_acceptance_rate           13310\n",
       "host_is_superhost                 47\n",
       "host_thumbnail_url                47\n",
       "host_picture_url                  47\n",
       "host_neighbourhood              7424\n",
       "host_listings_count               47\n",
       "host_total_listings_count         47\n",
       "host_has_profile_pic              47\n",
       "host_identity_verified            47\n",
       "neighbourhood                  15624\n",
       "bathrooms                      38185\n",
       "bathrooms_text                   103\n",
       "bedrooms                        3889\n",
       "beds                            1287\n",
       "minimum_minimum_nights            18\n",
       "maximum_minimum_nights            18\n",
       "minimum_maximum_nights            18\n",
       "maximum_maximum_nights            18\n",
       "minimum_nights_avg_ntm            18\n",
       "maximum_nights_avg_ntm            18\n",
       "calendar_updated               38185\n",
       "first_review                    9176\n",
       "last_review                     9176\n",
       "review_scores_rating            9176\n",
       "review_scores_accuracy          9759\n",
       "review_scores_cleanliness       9748\n",
       "review_scores_checkin           9765\n",
       "review_scores_communication     9755\n",
       "review_scores_location          9768\n",
       "review_scores_value             9769\n",
       "license                        38184\n",
       "reviews_per_month               9176\n",
       "dtype: int64"
      ]
     },
     "execution_count": 13,
     "metadata": {},
     "output_type": "execute_result"
    }
   ],
   "source": [
    "# Checking for null values\n",
    "null_colum = listing.columns[listing.isnull().any()]\n",
    "listing[null_colum].isnull().sum()\n",
    "\n",
    "#https://dzone.com/articles/pandas-find-rows-where-columnfield-is-null"
   ]
  },
  {
   "cell_type": "code",
   "execution_count": 14,
   "id": "41cea123-8c5e-4ed7-b49d-824d0198c8fd",
   "metadata": {},
   "outputs": [
    {
     "data": {
      "text/plain": [
       "reviewer_name      6\n",
       "comments         165\n",
       "dtype: int64"
      ]
     },
     "execution_count": 14,
     "metadata": {},
     "output_type": "execute_result"
    }
   ],
   "source": [
    "null_colum = review.columns[review.isnull().any()]\n",
    "review[null_colum].isnull().sum()"
   ]
  },
  {
   "cell_type": "code",
   "execution_count": 15,
   "id": "285ad0d0-69ca-4844-be2f-c58040df5f6e",
   "metadata": {},
   "outputs": [
    {
     "data": {
      "text/plain": [
       "price               170\n",
       "adjusted_price      170\n",
       "minimum_nights    15293\n",
       "maximum_nights    15293\n",
       "dtype: int64"
      ]
     },
     "execution_count": 15,
     "metadata": {},
     "output_type": "execute_result"
    }
   ],
   "source": [
    "null_colum = calendar2021.columns[calendar2021.isnull().any()]\n",
    "calendar2021[null_colum].isnull().sum()"
   ]
  },
  {
   "cell_type": "code",
   "execution_count": 16,
   "id": "ba0e44e7-01f1-4753-aa1f-e9274cedb2b5",
   "metadata": {},
   "outputs": [
    {
     "data": {
      "text/plain": [
       "price              5\n",
       "adjusted_price     5\n",
       "minimum_nights    21\n",
       "maximum_nights    21\n",
       "dtype: int64"
      ]
     },
     "execution_count": 16,
     "metadata": {},
     "output_type": "execute_result"
    }
   ],
   "source": [
    "null_colum = calendar2022.columns[calendar2022.isnull().any()]\n",
    "calendar2022[null_colum].isnull().sum()"
   ]
  },
  {
   "cell_type": "markdown",
   "id": "2b1e1b65-6c27-49f3-aa3a-5089fdd11ad7",
   "metadata": {},
   "source": [
    "### 4. Data preparation\n",
    "---"
   ]
  },
  {
   "cell_type": "markdown",
   "id": "b752e7a5-9606-43ff-85ee-992cdb813528",
   "metadata": {},
   "source": [
    "*  Dropping unnecessary columns:\n",
    "---"
   ]
  },
  {
   "cell_type": "code",
   "execution_count": 17,
   "id": "f3c77fd0-83d7-4046-ba1f-8ca1dfbfff2a",
   "metadata": {},
   "outputs": [],
   "source": [
    "listing.drop(['scrape_id','host_thumbnail_url','host_picture_url','host_listings_count','picture_url','host_total_listings_count','host_since',\n",
    "              'host_verifications','host_identity_verified','bathrooms','host_has_profile_pic','neighbourhood',\n",
    "              'availability_30','availability_60','availability_90','availability_365',\n",
    "             'calendar_last_scraped','number_of_reviews_ltm','number_of_reviews_l30d','license','instant_bookable',\n",
    "             'calculated_host_listings_count','calculated_host_listings_count_entire_homes','calculated_host_listings_count_private_rooms',\n",
    "             'calculated_host_listings_count_shared_rooms','host_response_time','host_response_rate','host_acceptance_rate','minimum_minimum_nights',\n",
    "             'maximum_minimum_nights','minimum_maximum_nights','maximum_maximum_nights','minimum_nights_avg_ntm','maximum_nights_avg_ntm',\n",
    "             'calendar_updated','first_review','last_review','last_scraped','host_url','host_neighbourhood','minimum_nights',\n",
    "             'maximum_nights','has_availability'],axis=1,inplace=True)\n",
    "\n",
    "calendar2021.drop('adjusted_price',axis=1,inplace=True)\n",
    "calendar2021.dropna(subset=['price'],inplace=True)\n",
    "calendar2021.dropna(subset=['minimum_nights'],inplace=True)\n",
    "\n",
    "calendar2022.drop('adjusted_price',axis=1,inplace=True)\n",
    "calendar2022.dropna(subset=['price'],inplace=True)\n",
    "calendar2022.dropna(subset=['minimum_nights'],inplace=True)\n",
    "\n",
    "#dropping values price = 0\n",
    "listing.drop(listing[listing['price']==0].index,inplace=True)\n"
   ]
  },
  {
   "cell_type": "markdown",
   "id": "9508ec09-19a3-464a-a9db-ebbe3d904974",
   "metadata": {},
   "source": [
    "* Filling Null values:\n",
    "---"
   ]
  },
  {
   "cell_type": "code",
   "execution_count": 18,
   "id": "916df43a-ba8d-458d-ab9f-7d63cf11856c",
   "metadata": {},
   "outputs": [],
   "source": [
    "listing['name'].fillna(str(listing['id']), inplace=True)\n",
    "listing['description'].fillna('None', inplace=True)\n",
    "listing['neighborhood_overview'].fillna('None', inplace=True)\n",
    "listing['host_name'].fillna(str(listing['id']), inplace=True)\n",
    "listing['host_location'].fillna('New York, New York, United States', inplace=True)\n",
    "listing['host_about'].fillna('None', inplace=True)\n",
    "listing['host_is_superhost'].fillna('f', inplace=True)\n",
    "listing['bathrooms_text'].fillna('1 bath', inplace=True)\n",
    "listing['bedrooms'].fillna('1.0', inplace=True)\n",
    "listing['beds'].fillna(listing['beds'].mode()[0], inplace=True)\n",
    "\n",
    "\n",
    "review['reviewer_name'].fillna('None', inplace=True)\n",
    "review['comments'].fillna('None', inplace=True)"
   ]
  },
  {
   "cell_type": "markdown",
   "id": "d217c048-698e-4321-84c3-042e2ba53fe1",
   "metadata": {},
   "source": [
    "* Data transformation:\n",
    "---"
   ]
  },
  {
   "cell_type": "code",
   "execution_count": 19,
   "id": "1316b638-c4e6-47a2-aaa0-d8c909ba001b",
   "metadata": {
    "tags": []
   },
   "outputs": [],
   "source": [
    "listing['price'] = listing['price'].replace('[\\$\\,]', '', regex=True).astype(float)\n",
    "\n",
    "calendar2021['price'] = calendar2021['price'].replace('[\\$\\,]', '', regex=True).astype(float)\n",
    "\n",
    "calendar2022['price'] = calendar2022['price'].replace('[\\$\\,]', '', regex=True).astype(float)\n",
    "\n",
    "\n",
    "#https://stackoverflow.com/questions/44469313/price-column-object-to-int-in-pandas"
   ]
  },
  {
   "cell_type": "code",
   "execution_count": 20,
   "id": "09ef1c0f-ffc0-488f-bbfe-0822079065d9",
   "metadata": {
    "tags": []
   },
   "outputs": [],
   "source": [
    "# Change date column to be datetime dtype\n",
    "\n",
    "review['date'] = pd.to_datetime(review['date'])\n",
    "calendar2021['date'] = pd.to_datetime(calendar2021['date'])\n",
    "calendar2022['date'] = pd.to_datetime(calendar2022['date'])"
   ]
  },
  {
   "cell_type": "code",
   "execution_count": 21,
   "id": "61d458cf-e1aa-4896-90f7-5c19a21e5e6c",
   "metadata": {},
   "outputs": [],
   "source": [
    "listing['host_is_superhost'].replace(to_replace=['t', 'f'], value=[1, 0],inplace=True)\n",
    "calendar2021['available'].replace(to_replace=['t', 'f'], value=[1, 0],inplace=True)\n",
    "calendar2022['available'].replace(to_replace=['t', 'f'], value=[1, 0],inplace=True)"
   ]
  },
  {
   "cell_type": "code",
   "execution_count": 22,
   "id": "e219226a-0c67-46c7-8299-14818bde8abe",
   "metadata": {},
   "outputs": [],
   "source": [
    "# creating a new column bathroom \n",
    "listing['bathrooms_text']=listing['bathrooms_text'].str.lower()\n",
    "listing['bathroom'] = listing['bathrooms_text'].replace('[\\ bath\\ baths\\ shared\\ private\\ Half-]', '', regex=True)\n",
    "listing['bathroom'] = listing['bathroom'].replace('','0.5',regex=True).astype(float)"
   ]
  },
  {
   "cell_type": "code",
   "execution_count": 23,
   "id": "5072347d-0e05-4b7f-831a-cebcb78ef7cf",
   "metadata": {},
   "outputs": [],
   "source": [
    "# Dropping price values = 0\n",
    "listing.drop(listing[listing['price']==0].index,inplace=True)"
   ]
  },
  {
   "cell_type": "markdown",
   "id": "cb9cccdc-ba4b-4d6e-829b-bc46847532be",
   "metadata": {},
   "source": [
    "### 5. Creating dataframe\n",
    "---"
   ]
  },
  {
   "cell_type": "code",
   "execution_count": 24,
   "id": "f5551b0c-a4b8-4350-9b21-0fe0726d3139",
   "metadata": {
    "tags": []
   },
   "outputs": [],
   "source": [
    "calendar2021= calendar2021[calendar2021['date']<='2022-01-31']\n",
    "calendar2022= calendar2022[calendar2022['date']>='2022-02-01']"
   ]
  },
  {
   "cell_type": "code",
   "execution_count": 25,
   "id": "f1b17951-0f35-47d3-80a4-20c366f28740",
   "metadata": {},
   "outputs": [],
   "source": [
    "frames = [calendar2021,calendar2022]\n",
    "\n",
    "reservations_df = pd.concat(frames)"
   ]
  },
  {
   "cell_type": "code",
   "execution_count": 26,
   "id": "e0feff8f-4469-495a-942b-0a2c8bd04760",
   "metadata": {
    "tags": []
   },
   "outputs": [],
   "source": [
    "reservations_df  = reservations_df[reservations_df['date']<='2023-01'] # Taking the dates from Feb 2021 to dec 2022"
   ]
  },
  {
   "cell_type": "code",
   "execution_count": 27,
   "id": "765b196a-c77f-4fd3-8348-fbf5b334a225",
   "metadata": {},
   "outputs": [],
   "source": [
    "# creatiang a new column weekday name\n",
    "reservations_df = reservations_df.groupby('date').agg({'available':'sum','price':'mean'}).reset_index()\n",
    "reservations_df['weekday'] = reservations_df['date'].dt.day_name()\n",
    "reservations_df.drop([0],inplace=True) # Dropping first row\n",
    "reservations_df.set_index('date',inplace=True)"
   ]
  },
  {
   "cell_type": "code",
   "execution_count": 30,
   "id": "a8afb5fe-95d9-4131-abb6-e0155babb120",
   "metadata": {},
   "outputs": [
    {
     "data": {
      "text/html": [
       "<div>\n",
       "<style scoped>\n",
       "    .dataframe tbody tr th:only-of-type {\n",
       "        vertical-align: middle;\n",
       "    }\n",
       "\n",
       "    .dataframe tbody tr th {\n",
       "        vertical-align: top;\n",
       "    }\n",
       "\n",
       "    .dataframe thead th {\n",
       "        text-align: right;\n",
       "    }\n",
       "</style>\n",
       "<table border=\"1\" class=\"dataframe\">\n",
       "  <thead>\n",
       "    <tr style=\"text-align: right;\">\n",
       "      <th></th>\n",
       "      <th>available</th>\n",
       "      <th>price</th>\n",
       "      <th>weekday</th>\n",
       "    </tr>\n",
       "    <tr>\n",
       "      <th>date</th>\n",
       "      <th></th>\n",
       "      <th></th>\n",
       "      <th></th>\n",
       "    </tr>\n",
       "  </thead>\n",
       "  <tbody>\n",
       "    <tr>\n",
       "      <th>2021-02-05</th>\n",
       "      <td>3847</td>\n",
       "      <td>149.310480</td>\n",
       "      <td>Friday</td>\n",
       "    </tr>\n",
       "    <tr>\n",
       "      <th>2021-02-06</th>\n",
       "      <td>9204</td>\n",
       "      <td>145.043317</td>\n",
       "      <td>Saturday</td>\n",
       "    </tr>\n",
       "    <tr>\n",
       "      <th>2021-02-07</th>\n",
       "      <td>11242</td>\n",
       "      <td>142.344009</td>\n",
       "      <td>Sunday</td>\n",
       "    </tr>\n",
       "    <tr>\n",
       "      <th>2021-02-08</th>\n",
       "      <td>12248</td>\n",
       "      <td>142.182521</td>\n",
       "      <td>Monday</td>\n",
       "    </tr>\n",
       "    <tr>\n",
       "      <th>2021-02-09</th>\n",
       "      <td>12496</td>\n",
       "      <td>142.167703</td>\n",
       "      <td>Tuesday</td>\n",
       "    </tr>\n",
       "    <tr>\n",
       "      <th>...</th>\n",
       "      <td>...</td>\n",
       "      <td>...</td>\n",
       "      <td>...</td>\n",
       "    </tr>\n",
       "    <tr>\n",
       "      <th>2022-12-28</th>\n",
       "      <td>13181</td>\n",
       "      <td>177.325255</td>\n",
       "      <td>Wednesday</td>\n",
       "    </tr>\n",
       "    <tr>\n",
       "      <th>2022-12-29</th>\n",
       "      <td>13164</td>\n",
       "      <td>178.026148</td>\n",
       "      <td>Thursday</td>\n",
       "    </tr>\n",
       "    <tr>\n",
       "      <th>2022-12-30</th>\n",
       "      <td>13133</td>\n",
       "      <td>182.766028</td>\n",
       "      <td>Friday</td>\n",
       "    </tr>\n",
       "    <tr>\n",
       "      <th>2022-12-31</th>\n",
       "      <td>13151</td>\n",
       "      <td>184.568790</td>\n",
       "      <td>Saturday</td>\n",
       "    </tr>\n",
       "    <tr>\n",
       "      <th>2023-01-01</th>\n",
       "      <td>13260</td>\n",
       "      <td>180.275259</td>\n",
       "      <td>Sunday</td>\n",
       "    </tr>\n",
       "  </tbody>\n",
       "</table>\n",
       "<p>696 rows × 3 columns</p>\n",
       "</div>"
      ],
      "text/plain": [
       "            available       price    weekday\n",
       "date                                        \n",
       "2021-02-05       3847  149.310480     Friday\n",
       "2021-02-06       9204  145.043317   Saturday\n",
       "2021-02-07      11242  142.344009     Sunday\n",
       "2021-02-08      12248  142.182521     Monday\n",
       "2021-02-09      12496  142.167703    Tuesday\n",
       "...               ...         ...        ...\n",
       "2022-12-28      13181  177.325255  Wednesday\n",
       "2022-12-29      13164  178.026148   Thursday\n",
       "2022-12-30      13133  182.766028     Friday\n",
       "2022-12-31      13151  184.568790   Saturday\n",
       "2023-01-01      13260  180.275259     Sunday\n",
       "\n",
       "[696 rows x 3 columns]"
      ]
     },
     "execution_count": 30,
     "metadata": {},
     "output_type": "execute_result"
    }
   ],
   "source": [
    "reservations_df"
   ]
  },
  {
   "cell_type": "markdown",
   "id": "79e35598-725c-4012-8d14-8a28369822ec",
   "metadata": {},
   "source": [
    "### 6. Save dataframes\n",
    "---"
   ]
  },
  {
   "cell_type": "code",
   "execution_count": 28,
   "id": "5ae76dd5-d7db-4a30-870f-3d735e716f39",
   "metadata": {},
   "outputs": [
    {
     "name": "stdout",
     "output_type": "stream",
     "text": [
      "listings shape:  (38149, 32)\n",
      "review shape:  (908803, 6)\n",
      "reservations_df shape:  (696, 3)\n"
     ]
    }
   ],
   "source": [
    "print('listings shape: ',listing.shape)\n",
    "print('review shape: ', review.shape)\n",
    "print('reservations_df shape: ', reservations_df.shape)"
   ]
  },
  {
   "cell_type": "code",
   "execution_count": 29,
   "id": "67012153-4685-453a-b7e8-491a4075afc1",
   "metadata": {},
   "outputs": [],
   "source": [
    "listing.to_json('../data/listing_clean.json')\n",
    "review.to_json('../data/review_clean.json')\n",
    "reservations_df.to_json('../data/reservations_clean.json')\n"
   ]
  },
  {
   "cell_type": "markdown",
   "id": "fa5277f4-2209-446d-a5df-bd84d2a25ff6",
   "metadata": {},
   "source": [
    "### 5. Conclusion \n",
    "---"
   ]
  },
  {
   "cell_type": "markdown",
   "id": "8323f9aa-2456-439e-9b8d-973095323d6e",
   "metadata": {},
   "source": [
    "In total 3 dataframes have been saved:\n",
    "- Listing: Which contains all the information of the listings and the hosts, from the start of Airbnb in 2008 until the month of February 2022. This dataframe started with 38185 rows and 74 columns, and after cleaning and collecting the best features, it was reduced to 38149 rows with 32 columns.\n",
    "- Review: This dataframe has the information of the reviews of the listings.\n",
    "- Reservations_df: Here you will find the union of the two dataframes calendar_2021 and calendar_2022, with a size greater than 13000000 rows and 7 columns. this new dataframe contains the average price and the sum of the daily availability."
   ]
  },
  {
   "cell_type": "code",
   "execution_count": null,
   "id": "c534b62c-ec7c-4e10-80f6-e9caea2ec5a8",
   "metadata": {},
   "outputs": [],
   "source": []
  }
 ],
 "metadata": {
  "kernelspec": {
   "display_name": "Python 3",
   "language": "python",
   "name": "python3"
  },
  "language_info": {
   "codemirror_mode": {
    "name": "ipython",
    "version": 3
   },
   "file_extension": ".py",
   "mimetype": "text/x-python",
   "name": "python",
   "nbconvert_exporter": "python",
   "pygments_lexer": "ipython3",
   "version": "3.8.2"
  }
 },
 "nbformat": 4,
 "nbformat_minor": 5
}
